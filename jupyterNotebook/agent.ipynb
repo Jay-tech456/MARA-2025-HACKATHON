{
 "cells": [
  {
   "cell_type": "code",
   "execution_count": 1,
   "id": "241e2ecb",
   "metadata": {},
   "outputs": [
    {
     "name": "stdout",
     "output_type": "stream",
     "text": [
      "Requirement already satisfied: langgraph in /Users/manjeshprasad/miniconda3/envs/physics-agent/lib/python3.10/site-packages (0.4.0)\n",
      "Requirement already satisfied: langsmith in /Users/manjeshprasad/miniconda3/envs/physics-agent/lib/python3.10/site-packages (0.3.38)\n",
      "Requirement already satisfied: langchain-core>=0.1 in /Users/manjeshprasad/miniconda3/envs/physics-agent/lib/python3.10/site-packages (from langgraph) (0.3.56)\n",
      "Requirement already satisfied: langgraph-checkpoint<3.0.0,>=2.0.10 in /Users/manjeshprasad/miniconda3/envs/physics-agent/lib/python3.10/site-packages (from langgraph) (2.0.24)\n",
      "Requirement already satisfied: langgraph-prebuilt>=0.1.8 in /Users/manjeshprasad/miniconda3/envs/physics-agent/lib/python3.10/site-packages (from langgraph) (0.1.8)\n",
      "Requirement already satisfied: langgraph-sdk>=0.1.42 in /Users/manjeshprasad/miniconda3/envs/physics-agent/lib/python3.10/site-packages (from langgraph) (0.1.63)\n",
      "Requirement already satisfied: xxhash<4.0.0,>=3.5.0 in /Users/manjeshprasad/miniconda3/envs/physics-agent/lib/python3.10/site-packages (from langgraph) (3.5.0)\n",
      "Requirement already satisfied: httpx<1,>=0.23.0 in /Users/manjeshprasad/miniconda3/envs/physics-agent/lib/python3.10/site-packages (from langsmith) (0.28.1)\n",
      "Requirement already satisfied: orjson<4.0.0,>=3.9.14 in /Users/manjeshprasad/miniconda3/envs/physics-agent/lib/python3.10/site-packages (from langsmith) (3.10.16)\n",
      "Requirement already satisfied: packaging>=23.2 in /Users/manjeshprasad/miniconda3/envs/physics-agent/lib/python3.10/site-packages (from langsmith) (24.2)\n",
      "Requirement already satisfied: pydantic<3,>=1 in /Users/manjeshprasad/miniconda3/envs/physics-agent/lib/python3.10/site-packages (from langsmith) (2.11.3)\n",
      "Requirement already satisfied: requests<3,>=2 in /Users/manjeshprasad/miniconda3/envs/physics-agent/lib/python3.10/site-packages (from langsmith) (2.32.3)\n",
      "Requirement already satisfied: requests-toolbelt<2.0.0,>=1.0.0 in /Users/manjeshprasad/miniconda3/envs/physics-agent/lib/python3.10/site-packages (from langsmith) (1.0.0)\n",
      "Requirement already satisfied: zstandard<0.24.0,>=0.23.0 in /Users/manjeshprasad/miniconda3/envs/physics-agent/lib/python3.10/site-packages (from langsmith) (0.23.0)\n",
      "Requirement already satisfied: anyio in /Users/manjeshprasad/miniconda3/envs/physics-agent/lib/python3.10/site-packages (from httpx<1,>=0.23.0->langsmith) (4.9.0)\n",
      "Requirement already satisfied: certifi in /Users/manjeshprasad/miniconda3/envs/physics-agent/lib/python3.10/site-packages (from httpx<1,>=0.23.0->langsmith) (2025.1.31)\n",
      "Requirement already satisfied: httpcore==1.* in /Users/manjeshprasad/miniconda3/envs/physics-agent/lib/python3.10/site-packages (from httpx<1,>=0.23.0->langsmith) (1.0.9)\n",
      "Requirement already satisfied: idna in /Users/manjeshprasad/miniconda3/envs/physics-agent/lib/python3.10/site-packages (from httpx<1,>=0.23.0->langsmith) (3.10)\n",
      "Requirement already satisfied: h11>=0.16 in /Users/manjeshprasad/miniconda3/envs/physics-agent/lib/python3.10/site-packages (from httpcore==1.*->httpx<1,>=0.23.0->langsmith) (0.16.0)\n",
      "Requirement already satisfied: tenacity!=8.4.0,<10.0.0,>=8.1.0 in /Users/manjeshprasad/miniconda3/envs/physics-agent/lib/python3.10/site-packages (from langchain-core>=0.1->langgraph) (9.1.2)\n",
      "Requirement already satisfied: jsonpatch<2.0,>=1.33 in /Users/manjeshprasad/miniconda3/envs/physics-agent/lib/python3.10/site-packages (from langchain-core>=0.1->langgraph) (1.33)\n",
      "Requirement already satisfied: PyYAML>=5.3 in /Users/manjeshprasad/miniconda3/envs/physics-agent/lib/python3.10/site-packages (from langchain-core>=0.1->langgraph) (6.0.2)\n",
      "Requirement already satisfied: typing-extensions>=4.7 in /Users/manjeshprasad/miniconda3/envs/physics-agent/lib/python3.10/site-packages (from langchain-core>=0.1->langgraph) (4.13.2)\n",
      "Requirement already satisfied: ormsgpack<2.0.0,>=1.8.0 in /Users/manjeshprasad/miniconda3/envs/physics-agent/lib/python3.10/site-packages (from langgraph-checkpoint<3.0.0,>=2.0.10->langgraph) (1.9.1)\n",
      "Requirement already satisfied: annotated-types>=0.6.0 in /Users/manjeshprasad/miniconda3/envs/physics-agent/lib/python3.10/site-packages (from pydantic<3,>=1->langsmith) (0.7.0)\n",
      "Requirement already satisfied: pydantic-core==2.33.1 in /Users/manjeshprasad/miniconda3/envs/physics-agent/lib/python3.10/site-packages (from pydantic<3,>=1->langsmith) (2.33.1)\n",
      "Requirement already satisfied: typing-inspection>=0.4.0 in /Users/manjeshprasad/miniconda3/envs/physics-agent/lib/python3.10/site-packages (from pydantic<3,>=1->langsmith) (0.4.0)\n",
      "Requirement already satisfied: charset-normalizer<4,>=2 in /Users/manjeshprasad/miniconda3/envs/physics-agent/lib/python3.10/site-packages (from requests<3,>=2->langsmith) (3.4.1)\n",
      "Requirement already satisfied: urllib3<3,>=1.21.1 in /Users/manjeshprasad/miniconda3/envs/physics-agent/lib/python3.10/site-packages (from requests<3,>=2->langsmith) (2.4.0)\n",
      "Requirement already satisfied: jsonpointer>=1.9 in /Users/manjeshprasad/miniconda3/envs/physics-agent/lib/python3.10/site-packages (from jsonpatch<2.0,>=1.33->langchain-core>=0.1->langgraph) (3.0.0)\n",
      "Requirement already satisfied: exceptiongroup>=1.0.2 in /Users/manjeshprasad/miniconda3/envs/physics-agent/lib/python3.10/site-packages (from anyio->httpx<1,>=0.23.0->langsmith) (1.2.2)\n",
      "Requirement already satisfied: sniffio>=1.1 in /Users/manjeshprasad/miniconda3/envs/physics-agent/lib/python3.10/site-packages (from anyio->httpx<1,>=0.23.0->langsmith) (1.3.1)\n"
     ]
    }
   ],
   "source": [
    "!pip install -U langgraph langsmith\n"
   ]
  },
  {
   "cell_type": "code",
   "execution_count": 2,
   "id": "273260f4",
   "metadata": {},
   "outputs": [
    {
     "name": "stdout",
     "output_type": "stream",
     "text": [
      "Requirement already satisfied: dotenv in /Users/manjeshprasad/miniconda3/envs/physics-agent/lib/python3.10/site-packages (0.9.9)\n",
      "Requirement already satisfied: python-dotenv in /Users/manjeshprasad/miniconda3/envs/physics-agent/lib/python3.10/site-packages (from dotenv) (1.1.0)\n"
     ]
    }
   ],
   "source": [
    "!pip install dotenv"
   ]
  },
  {
   "cell_type": "code",
   "execution_count": 3,
   "id": "7a907a7f",
   "metadata": {},
   "outputs": [
    {
     "name": "stdout",
     "output_type": "stream",
     "text": [
      "a5hswwU9FlKoR7z1p0dBqAgQBiSaj5hp\n"
     ]
    }
   ],
   "source": [
    "from dotenv import load_dotenv\n",
    "load_dotenv()\n",
    "import os\n",
    "\n",
    "MISTRAL_API_KEY = os.getenv(\"MISTRAL_API_KEY\")\n",
    "print(MISTRAL_API_KEY)"
   ]
  },
  {
   "cell_type": "code",
   "execution_count": 4,
   "id": "0321884d",
   "metadata": {},
   "outputs": [
    {
     "name": "stdout",
     "output_type": "stream",
     "text": [
      "Requirement already satisfied: langchain_ollama in /Users/manjeshprasad/miniconda3/envs/physics-agent/lib/python3.10/site-packages (0.3.2)\n",
      "Requirement already satisfied: langchain_nomic in /Users/manjeshprasad/miniconda3/envs/physics-agent/lib/python3.10/site-packages (0.1.4)\n",
      "Requirement already satisfied: langchain_mistralai in /Users/manjeshprasad/miniconda3/envs/physics-agent/lib/python3.10/site-packages (0.2.10)\n",
      "Requirement already satisfied: ollama<1,>=0.4.4 in /Users/manjeshprasad/miniconda3/envs/physics-agent/lib/python3.10/site-packages (from langchain_ollama) (0.4.8)\n",
      "Requirement already satisfied: langchain-core<1.0.0,>=0.3.52 in /Users/manjeshprasad/miniconda3/envs/physics-agent/lib/python3.10/site-packages (from langchain_ollama) (0.3.56)\n",
      "Requirement already satisfied: nomic<4.0.0,>=3.1.2 in /Users/manjeshprasad/miniconda3/envs/physics-agent/lib/python3.10/site-packages (from langchain_nomic) (3.4.1)\n",
      "Requirement already satisfied: pillow<11.0.0,>=10.3.0 in /Users/manjeshprasad/miniconda3/envs/physics-agent/lib/python3.10/site-packages (from langchain_nomic) (10.4.0)\n",
      "Requirement already satisfied: tokenizers<1,>=0.15.1 in /Users/manjeshprasad/miniconda3/envs/physics-agent/lib/python3.10/site-packages (from langchain_mistralai) (0.21.1)\n",
      "Requirement already satisfied: httpx<1,>=0.25.2 in /Users/manjeshprasad/miniconda3/envs/physics-agent/lib/python3.10/site-packages (from langchain_mistralai) (0.28.1)\n",
      "Requirement already satisfied: httpx-sse<1,>=0.3.1 in /Users/manjeshprasad/miniconda3/envs/physics-agent/lib/python3.10/site-packages (from langchain_mistralai) (0.4.0)\n",
      "Requirement already satisfied: pydantic<3,>=2 in /Users/manjeshprasad/miniconda3/envs/physics-agent/lib/python3.10/site-packages (from langchain_mistralai) (2.11.3)\n",
      "Requirement already satisfied: anyio in /Users/manjeshprasad/miniconda3/envs/physics-agent/lib/python3.10/site-packages (from httpx<1,>=0.25.2->langchain_mistralai) (4.9.0)\n",
      "Requirement already satisfied: certifi in /Users/manjeshprasad/miniconda3/envs/physics-agent/lib/python3.10/site-packages (from httpx<1,>=0.25.2->langchain_mistralai) (2025.1.31)\n",
      "Requirement already satisfied: httpcore==1.* in /Users/manjeshprasad/miniconda3/envs/physics-agent/lib/python3.10/site-packages (from httpx<1,>=0.25.2->langchain_mistralai) (1.0.9)\n",
      "Requirement already satisfied: idna in /Users/manjeshprasad/miniconda3/envs/physics-agent/lib/python3.10/site-packages (from httpx<1,>=0.25.2->langchain_mistralai) (3.10)\n",
      "Requirement already satisfied: h11>=0.16 in /Users/manjeshprasad/miniconda3/envs/physics-agent/lib/python3.10/site-packages (from httpcore==1.*->httpx<1,>=0.25.2->langchain_mistralai) (0.16.0)\n",
      "Requirement already satisfied: langsmith<0.4,>=0.1.125 in /Users/manjeshprasad/miniconda3/envs/physics-agent/lib/python3.10/site-packages (from langchain-core<1.0.0,>=0.3.52->langchain_ollama) (0.3.38)\n",
      "Requirement already satisfied: tenacity!=8.4.0,<10.0.0,>=8.1.0 in /Users/manjeshprasad/miniconda3/envs/physics-agent/lib/python3.10/site-packages (from langchain-core<1.0.0,>=0.3.52->langchain_ollama) (9.1.2)\n",
      "Requirement already satisfied: jsonpatch<2.0,>=1.33 in /Users/manjeshprasad/miniconda3/envs/physics-agent/lib/python3.10/site-packages (from langchain-core<1.0.0,>=0.3.52->langchain_ollama) (1.33)\n",
      "Requirement already satisfied: PyYAML>=5.3 in /Users/manjeshprasad/miniconda3/envs/physics-agent/lib/python3.10/site-packages (from langchain-core<1.0.0,>=0.3.52->langchain_ollama) (6.0.2)\n",
      "Requirement already satisfied: packaging<25,>=23.2 in /Users/manjeshprasad/miniconda3/envs/physics-agent/lib/python3.10/site-packages (from langchain-core<1.0.0,>=0.3.52->langchain_ollama) (24.2)\n",
      "Requirement already satisfied: typing-extensions>=4.7 in /Users/manjeshprasad/miniconda3/envs/physics-agent/lib/python3.10/site-packages (from langchain-core<1.0.0,>=0.3.52->langchain_ollama) (4.13.2)\n",
      "Requirement already satisfied: click in /Users/manjeshprasad/miniconda3/envs/physics-agent/lib/python3.10/site-packages (from nomic<4.0.0,>=3.1.2->langchain_nomic) (8.1.8)\n",
      "Requirement already satisfied: jsonlines in /Users/manjeshprasad/miniconda3/envs/physics-agent/lib/python3.10/site-packages (from nomic<4.0.0,>=3.1.2->langchain_nomic) (4.0.0)\n",
      "Requirement already satisfied: loguru in /Users/manjeshprasad/miniconda3/envs/physics-agent/lib/python3.10/site-packages (from nomic<4.0.0,>=3.1.2->langchain_nomic) (0.7.3)\n",
      "Requirement already satisfied: rich in /Users/manjeshprasad/miniconda3/envs/physics-agent/lib/python3.10/site-packages (from nomic<4.0.0,>=3.1.2->langchain_nomic) (14.0.0)\n",
      "Requirement already satisfied: requests in /Users/manjeshprasad/miniconda3/envs/physics-agent/lib/python3.10/site-packages (from nomic<4.0.0,>=3.1.2->langchain_nomic) (2.32.3)\n",
      "Requirement already satisfied: numpy in /Users/manjeshprasad/miniconda3/envs/physics-agent/lib/python3.10/site-packages (from nomic<4.0.0,>=3.1.2->langchain_nomic) (2.2.5)\n",
      "Requirement already satisfied: pandas in /Users/manjeshprasad/miniconda3/envs/physics-agent/lib/python3.10/site-packages (from nomic<4.0.0,>=3.1.2->langchain_nomic) (2.2.3)\n",
      "Requirement already satisfied: tqdm in /Users/manjeshprasad/miniconda3/envs/physics-agent/lib/python3.10/site-packages (from nomic<4.0.0,>=3.1.2->langchain_nomic) (4.67.1)\n",
      "Requirement already satisfied: pyarrow in /Users/manjeshprasad/miniconda3/envs/physics-agent/lib/python3.10/site-packages (from nomic<4.0.0,>=3.1.2->langchain_nomic) (20.0.0)\n",
      "Requirement already satisfied: pyjwt in /Users/manjeshprasad/miniconda3/envs/physics-agent/lib/python3.10/site-packages (from nomic<4.0.0,>=3.1.2->langchain_nomic) (2.10.1)\n",
      "Requirement already satisfied: annotated-types>=0.6.0 in /Users/manjeshprasad/miniconda3/envs/physics-agent/lib/python3.10/site-packages (from pydantic<3,>=2->langchain_mistralai) (0.7.0)\n",
      "Requirement already satisfied: pydantic-core==2.33.1 in /Users/manjeshprasad/miniconda3/envs/physics-agent/lib/python3.10/site-packages (from pydantic<3,>=2->langchain_mistralai) (2.33.1)\n",
      "Requirement already satisfied: typing-inspection>=0.4.0 in /Users/manjeshprasad/miniconda3/envs/physics-agent/lib/python3.10/site-packages (from pydantic<3,>=2->langchain_mistralai) (0.4.0)\n",
      "Requirement already satisfied: huggingface-hub<1.0,>=0.16.4 in /Users/manjeshprasad/miniconda3/envs/physics-agent/lib/python3.10/site-packages (from tokenizers<1,>=0.15.1->langchain_mistralai) (0.30.2)\n",
      "Requirement already satisfied: filelock in /Users/manjeshprasad/miniconda3/envs/physics-agent/lib/python3.10/site-packages (from huggingface-hub<1.0,>=0.16.4->tokenizers<1,>=0.15.1->langchain_mistralai) (3.18.0)\n",
      "Requirement already satisfied: fsspec>=2023.5.0 in /Users/manjeshprasad/miniconda3/envs/physics-agent/lib/python3.10/site-packages (from huggingface-hub<1.0,>=0.16.4->tokenizers<1,>=0.15.1->langchain_mistralai) (2025.3.2)\n",
      "Requirement already satisfied: jsonpointer>=1.9 in /Users/manjeshprasad/miniconda3/envs/physics-agent/lib/python3.10/site-packages (from jsonpatch<2.0,>=1.33->langchain-core<1.0.0,>=0.3.52->langchain_ollama) (3.0.0)\n",
      "Requirement already satisfied: orjson<4.0.0,>=3.9.14 in /Users/manjeshprasad/miniconda3/envs/physics-agent/lib/python3.10/site-packages (from langsmith<0.4,>=0.1.125->langchain-core<1.0.0,>=0.3.52->langchain_ollama) (3.10.16)\n",
      "Requirement already satisfied: requests-toolbelt<2.0.0,>=1.0.0 in /Users/manjeshprasad/miniconda3/envs/physics-agent/lib/python3.10/site-packages (from langsmith<0.4,>=0.1.125->langchain-core<1.0.0,>=0.3.52->langchain_ollama) (1.0.0)\n",
      "Requirement already satisfied: zstandard<0.24.0,>=0.23.0 in /Users/manjeshprasad/miniconda3/envs/physics-agent/lib/python3.10/site-packages (from langsmith<0.4,>=0.1.125->langchain-core<1.0.0,>=0.3.52->langchain_ollama) (0.23.0)\n",
      "Requirement already satisfied: charset-normalizer<4,>=2 in /Users/manjeshprasad/miniconda3/envs/physics-agent/lib/python3.10/site-packages (from requests->nomic<4.0.0,>=3.1.2->langchain_nomic) (3.4.1)\n",
      "Requirement already satisfied: urllib3<3,>=1.21.1 in /Users/manjeshprasad/miniconda3/envs/physics-agent/lib/python3.10/site-packages (from requests->nomic<4.0.0,>=3.1.2->langchain_nomic) (2.4.0)\n",
      "Requirement already satisfied: exceptiongroup>=1.0.2 in /Users/manjeshprasad/miniconda3/envs/physics-agent/lib/python3.10/site-packages (from anyio->httpx<1,>=0.25.2->langchain_mistralai) (1.2.2)\n",
      "Requirement already satisfied: sniffio>=1.1 in /Users/manjeshprasad/miniconda3/envs/physics-agent/lib/python3.10/site-packages (from anyio->httpx<1,>=0.25.2->langchain_mistralai) (1.3.1)\n",
      "Requirement already satisfied: attrs>=19.2.0 in /Users/manjeshprasad/miniconda3/envs/physics-agent/lib/python3.10/site-packages (from jsonlines->nomic<4.0.0,>=3.1.2->langchain_nomic) (25.3.0)\n",
      "Requirement already satisfied: python-dateutil>=2.8.2 in /Users/manjeshprasad/miniconda3/envs/physics-agent/lib/python3.10/site-packages (from pandas->nomic<4.0.0,>=3.1.2->langchain_nomic) (2.9.0.post0)\n",
      "Requirement already satisfied: pytz>=2020.1 in /Users/manjeshprasad/miniconda3/envs/physics-agent/lib/python3.10/site-packages (from pandas->nomic<4.0.0,>=3.1.2->langchain_nomic) (2025.2)\n",
      "Requirement already satisfied: tzdata>=2022.7 in /Users/manjeshprasad/miniconda3/envs/physics-agent/lib/python3.10/site-packages (from pandas->nomic<4.0.0,>=3.1.2->langchain_nomic) (2025.2)\n",
      "Requirement already satisfied: markdown-it-py>=2.2.0 in /Users/manjeshprasad/miniconda3/envs/physics-agent/lib/python3.10/site-packages (from rich->nomic<4.0.0,>=3.1.2->langchain_nomic) (3.0.0)\n",
      "Requirement already satisfied: pygments<3.0.0,>=2.13.0 in /Users/manjeshprasad/miniconda3/envs/physics-agent/lib/python3.10/site-packages (from rich->nomic<4.0.0,>=3.1.2->langchain_nomic) (2.19.1)\n",
      "Requirement already satisfied: mdurl~=0.1 in /Users/manjeshprasad/miniconda3/envs/physics-agent/lib/python3.10/site-packages (from markdown-it-py>=2.2.0->rich->nomic<4.0.0,>=3.1.2->langchain_nomic) (0.1.2)\n",
      "Requirement already satisfied: six>=1.5 in /Users/manjeshprasad/miniconda3/envs/physics-agent/lib/python3.10/site-packages (from python-dateutil>=2.8.2->pandas->nomic<4.0.0,>=3.1.2->langchain_nomic) (1.17.0)\n"
     ]
    }
   ],
   "source": [
    "!pip install langchain_ollama langchain_nomic langchain_mistralai"
   ]
  },
  {
   "cell_type": "code",
   "execution_count": 5,
   "id": "f712f4ee",
   "metadata": {},
   "outputs": [],
   "source": [
    "from langchain_ollama import OllamaEmbeddings\n",
    "from langchain_nomic import NomicEmbeddings\n",
    "from langchain_mistralai import ChatMistralAI\n",
    "\n",
    "# For the embedding we, are going to use OllamaEmbeddings with the nomic-embed-text model\n",
    "# This model is a 7B model that is trained to embed text\n",
    "embeddings = OllamaEmbeddings(\n",
    "    model=\"nomic-embed-text\"\n",
    ")\n"
   ]
  },
  {
   "cell_type": "code",
   "execution_count": 6,
   "id": "3caf3f68",
   "metadata": {},
   "outputs": [],
   "source": [
    "mistral_model = ChatMistralAI(model=\"mistral-large-latest\", temperature=0, api_key=MISTRAL_API_KEY)"
   ]
  },
  {
   "cell_type": "code",
   "execution_count": 7,
   "id": "8d22c314",
   "metadata": {},
   "outputs": [],
   "source": [
    "import psycopg2\n",
    "\n",
    "class CockroachDBAgent:\n",
    "    def __init__(self, connection_string):\n",
    "        \"\"\"Initialize with a connection string\"\"\"\n",
    "        self.connection_string = connection_string\n",
    "        self.connection =  self.connect()\n",
    "        self.cursor = None\n",
    "    \n",
    "    def connect(self):\n",
    "        \"\"\"Establish a connection using the connection string\"\"\"\n",
    "        try:\n",
    "            self.connection = psycopg2.connect(self.connection_string)\n",
    "            self.cursor = self.connection.cursor()\n",
    "            print(\"Connected to CockroachDB successfully!\")\n",
    "        except Exception as e:\n",
    "            print(f\"Error: Unable to connect to the database: {e}\")\n",
    "    \n",
    "    def insert_candidate(self,first_name, last_name, description):\n",
    "        \"\"\"Insert a new candidate into the database\"\"\"\n",
    "        try:\n",
    "            self.cursor.execute(\n",
    "                \"\"\"\n",
    "                INSERT INTO HRCandidates(description, first_name, last_name)\n",
    "                VALUES (%s, %s, %s)\n",
    "                \"\"\",\n",
    "                (description, first_name, last_name)\n",
    "            )\n",
    "            self.connection.commit()\n",
    "            print(f\"Candidate inserted successfully!\")\n",
    "        except Exception as e:\n",
    "            print(f\"Error inserting candidate: {e}\")\n",
    "    \n",
    "    def get_candidates(self):\n",
    "        \"\"\"Fetch and return all candidates from the database\"\"\"\n",
    "        try:\n",
    "            self.cursor.execute(\"SELECT * FROM HRCandidates\")\n",
    "            rows = self.cursor.fetchall()\n",
    "            return rows\n",
    "        except Exception as e:\n",
    "            print(f\"Error fetching candidates: {e}\")\n",
    "            return []\n",
    "\n",
    "    def delete_candidate(self, candidate_id):\n",
    "        \"\"\"Delete a candidate from the database by ID\"\"\"\n",
    "        try:\n",
    "            self.cursor.execute(\n",
    "                \"\"\"\n",
    "                DELETE FROM HRCandidates\n",
    "                WHERE id = %s\n",
    "                \"\"\",\n",
    "                (candidate_id,)\n",
    "            )\n",
    "            self.connection.commit()\n",
    "            print(f\"Candidate with ID {candidate_id} deleted successfully!\")\n",
    "        except Exception as e:\n",
    "            print(f\"Error deleting candidate: {e}\")\n",
    "            \n",
    "    def print_candidates(self):\n",
    "        \"\"\"Print the candidate data fetched from the database\"\"\"\n",
    "        rows = self.get_candidates()\n",
    "        for count, row in enumerate(rows):\n",
    "            print(\"Canidate: \", count, \"Information: \", row)\n",
    "    \n",
    "    def close(self):\n",
    "        \"\"\"Close the connection to the database\"\"\"\n",
    "        if self.cursor:\n",
    "            self.cursor.close()\n",
    "        if self.connection:\n",
    "            self.connection.close()\n",
    "        print(\"Connection closed.\")\n",
    "        \n",
    "    def as_retriver(self): \n",
    "        return self\n",
    "\n"
   ]
  },
  {
   "cell_type": "code",
   "execution_count": 8,
   "id": "7e3011df",
   "metadata": {},
   "outputs": [
    {
     "name": "stdout",
     "output_type": "stream",
     "text": [
      "Connected to CockroachDB successfully!\n"
     ]
    }
   ],
   "source": [
    "# Developing the agent itself\n",
    "\n",
    "CockroachDBAgent = CockroachDBAgent(os.getenv(\"DATABASE_URL\"))"
   ]
  },
  {
   "cell_type": "code",
   "execution_count": 9,
   "id": "1917e324",
   "metadata": {},
   "outputs": [
    {
     "name": "stdout",
     "output_type": "stream",
     "text": [
      "Connected to CockroachDB successfully!\n"
     ]
    }
   ],
   "source": [
    "CockroachDBAgent.connect()\n",
    "as_retriever = CockroachDBAgent.as_retriver()"
   ]
  },
  {
   "cell_type": "code",
   "execution_count": 10,
   "id": "a3d90d75",
   "metadata": {},
   "outputs": [
    {
     "name": "stdout",
     "output_type": "stream",
     "text": [
      "Canidate:  0 Information:  (1067971238873989121, 'Smith', datetime.datetime(2025, 4, 30, 5, 2, 37, 123154), 'Kevin Smith, a software engineer at Meta', 'Kevin')\n",
      "Canidate:  1 Information:  (1067971339906383873, 'Prasad', datetime.datetime(2025, 4, 30, 5, 2, 37, 356656), 'a software engineer at meta', 'Manjesh')\n"
     ]
    }
   ],
   "source": [
    "as_retriever.print_candidates()"
   ]
  },
  {
   "cell_type": "code",
   "execution_count": 11,
   "id": "881415cb",
   "metadata": {},
   "outputs": [
    {
     "name": "stdout",
     "output_type": "stream",
     "text": [
      "Candidate with ID 1067964395977768961 deleted successfully!\n"
     ]
    }
   ],
   "source": [
    "as_retriever.delete_candidate(1067964395977768961)"
   ]
  },
  {
   "cell_type": "code",
   "execution_count": 13,
   "id": "afd8def5",
   "metadata": {},
   "outputs": [],
   "source": [
    "# The cells bellow are the tools taht will be used for the application itself"
   ]
  },
  {
   "cell_type": "code",
   "execution_count": 14,
   "id": "390e868e",
   "metadata": {},
   "outputs": [],
   "source": [
    "\n",
    "def insert_canidate(query: str, first_name: str, last_name: str): \n",
    "    \"\"\" This will be the tool to help insert any new canidates onto the database itsef\"\"\"\n",
    "    CockroachDBAgent.insert_candidate(query, first_name, last_name)\n",
    "    return f\"Candidate with description '{query}' inserted successfully!\""
   ]
  },
  {
   "cell_type": "code",
   "execution_count": 15,
   "id": "eab7f361",
   "metadata": {},
   "outputs": [],
   "source": [
    "def retrive_candidates(): \n",
    "    \"\"\" This will be the tool to help retrieve any canidates from the database itself\"\"\"\n",
    "    candidates = CockroachDBAgent.get_candidates()\n",
    "    return f\"Candidates retrieved: {candidates}\""
   ]
  },
  {
   "cell_type": "code",
   "execution_count": 16,
   "id": "31541ada",
   "metadata": {},
   "outputs": [],
   "source": [
    "def delete_candidate(candidate_id: str): \n",
    "    \"\"\" This will be the tool to help delete any canidates from the database itself\"\"\"\n",
    "    CockroachDBAgent.delete_candidate(candidate_id)\n",
    "    return f\"Candidate with ID {candidate_id} deleted successfully!\""
   ]
  },
  {
   "cell_type": "code",
   "execution_count": 17,
   "id": "8b794371",
   "metadata": {},
   "outputs": [
    {
     "data": {
      "text/plain": [
       "\"Candidates retrieved: [(1067971238873989121, 'Smith', datetime.datetime(2025, 4, 30, 5, 2, 37, 123154), 'Kevin Smith, a software engineer at Meta', 'Kevin'), (1067971339906383873, 'Prasad', datetime.datetime(2025, 4, 30, 5, 2, 37, 356656), 'a software engineer at meta', 'Manjesh'), (1067972559791915009, 'Smith', datetime.datetime(2025, 4, 30, 5, 9, 20, 238448), 'Kevin Smith, a software engineer at Meta', 'Kevin')]\""
      ]
     },
     "execution_count": 17,
     "metadata": {},
     "output_type": "execute_result"
    }
   ],
   "source": [
    "retrive_candidates()"
   ]
  },
  {
   "cell_type": "code",
   "execution_count": 18,
   "id": "c51860be",
   "metadata": {},
   "outputs": [],
   "source": [
    "from typing import (\n",
    "    Annotated,\n",
    "    Sequence,\n",
    "    TypedDict,\n",
    ")\n",
    "from langchain_core.messages import BaseMessage\n",
    "from langgraph.graph.message import add_messages\n",
    "\n",
    "class AgentState(TypedDict):\n",
    "    \"\"\"The state of the agent.\"\"\"\n",
    "    messages: Annotated[Sequence[BaseMessage], add_messages]"
   ]
  },
  {
   "cell_type": "code",
   "execution_count": 19,
   "id": "d1ff918f",
   "metadata": {},
   "outputs": [],
   "source": [
    "tools = [retrive_candidates, insert_canidate, delete_candidate]"
   ]
  },
  {
   "cell_type": "code",
   "execution_count": 20,
   "id": "28a76ed8",
   "metadata": {},
   "outputs": [],
   "source": [
    "import json\n",
    "from langchain_core.messages import ToolMessage, SystemMessage, AIMessage\n",
    "from langchain_core.runnables import RunnableConfig\n",
    "from langgraph.prebuilt import ToolNode"
   ]
  },
  {
   "cell_type": "code",
   "execution_count": 21,
   "id": "5929f2dc",
   "metadata": {},
   "outputs": [],
   "source": [
    "from langchain_core.messages import SystemMessage\n",
    "\n",
    "def system_prompt() -> SystemMessage:\n",
    "    \"\"\"The system prompt for the Helix recruiting agent with candidate tools.\"\"\"\n",
    "    return SystemMessage(\n",
    "        content=(\n",
    "            \"You are Helix, a recruiting assistant for a fast-growing company. \"\n",
    "            \"Your mission is to help busy recruiters craft excellent outreach messages to potential candidates. \"\n",
    "            \"Recruiters have a clear idea of who they are looking for but have limited time to type detailed instructions, and they expect you to do the heavy lifting.\\n\\n\"\n",
    "            \"Collect only essential input (such as role, qualities, first name, last name, resumes, or any special notes) and generate polished, human-sounding messages on their behalf.\\n\\n\"\n",
    "            \"Key principles:\\n\"\n",
    "            \"- Default to writing full, grammatically correct outreach drafts unless otherwise directed.\\n\"\n",
    "            \"- Keep questions minimal and highly focused; assume defaults where possible.\\n\"\n",
    "            \"- Maintain a professional, warm, and persuasive tone tailored to recruiting.\\n\"\n",
    "            \"- Offer the recruiter a complete draft ready for their quick review and minor edits.\\n\\n\"\n",
    "            \"Remember: You are a trusted extension of the recruiter, saving them time while preserving their intent and standards.\\n\\n\"\n",
    "            \"You have access to three key tools to manage candidate information:\\n\\n\"\n",
    "            \"1. **retrieve_candidate**: This tool retrieves details of an existing candidate based on their identifier. \"\n",
    "            \"If a recruiter asks for information about a specific candidate, you should use this tool. \"\n",
    "            \"It requires the candidate's unique ID as a parameter.\\n\\n\"\n",
    "            \"   Example:\\n\"\n",
    "            \"   - User asks: 'Can you retrieve details of specific candidates?'\\n\"\n",
    "            \"   - You respond by saying: 'Sure, give me a second while I retrieve the information.'\\n\\n\"\n",
    "            \"2. **insert_candidate**: This tool allows you to add a new candidate to the system. \"\n",
    "            \"When the recruiter provides a candidate's details, you should use this tool. \"\n",
    "            \"The input requires the candidate's **first name**, **last name**, and **description**.\\n\\n\"\n",
    "            \"   Example:\\n\"\n",
    "            \"   - User asks: 'Can you add a new candidate named John Doe, Software Engineer with 5 years of experience?'\\n\"\n",
    "            \"   - You respond by using: `insert_candidate(first_name='John', last_name='Doe', description='Software Engineer, 5 years experience')`\\n\\n\"\n",
    "            \"3. **delete_candidate**: This tool allows you to delete a candidate from the system. \"\n",
    "            \"If the recruiter wants to remove a candidate, you should use this tool. \"\n",
    "            \"It requires the candidate's unique ID as a parameter.\\n\\n\"\n",
    "            \"   Example:\\n\"\n",
    "            \"   - User asks: 'Can you delete the candidate with ID 12345?'\\n\"\n",
    "            \"   - You respond by saying: 'Candidate with ID 12345 has been deleted.'\\n\\n\"\n",
    "            \"When crafting outreach messages, focus on keeping questions to a minimum while ensuring clarity about the candidate’s qualifications and the role. \"\n",
    "            \"If the recruiter mentions a new candidate, use **insert_candidate**; if they ask for details about a candidate, use **retrieve_candidate**; if they request removal, use **delete_candidate**.\\n\"\n",
    "            \"Always keep track of the recruiter’s intent and offer polished drafts, utilizing the available tools where appropriate.\"\n",
    "        )\n",
    "    )\n"
   ]
  },
  {
   "cell_type": "code",
   "execution_count": 30,
   "id": "cc7ba137",
   "metadata": {},
   "outputs": [],
   "source": [
    "import time \n",
    "\n",
    "def run_agent(state: AgentState, config: RunnableConfig) -> dict:\n",
    "    model = mistral_model.bind_tools(tools)\n",
    "    time.sleep(2)\n",
    "    response = model.invoke([system_prompt()] + state[\"messages\"], config)\n",
    "\n",
    "\n",
    "    \n",
    "    return {\"messages\": [response]}"
   ]
  },
  {
   "cell_type": "code",
   "execution_count": 31,
   "id": "3c696c67",
   "metadata": {},
   "outputs": [],
   "source": [
    "from langgraph.graph import StateGraph, END\n",
    "from langgraph.checkpoint.memory import MemorySaver\n",
    "from langgraph.prebuilt import tools_condition\n",
    "memory = MemorySaver()\n",
    "\n",
    "\n",
    "# agent_tool = ToolNode(tools)\n",
    "agent_tool = ToolNode(tools)\n",
    "workflow01 = StateGraph(AgentState)\n"
   ]
  },
  {
   "cell_type": "code",
   "execution_count": 32,
   "id": "9635884b",
   "metadata": {},
   "outputs": [
    {
     "data": {
      "image/png": "[encoded data removed]",
      "text/plain": [
       "<IPython.core.display.Image object>"
      ]
     },
     "metadata": {},
     "output_type": "display_data"
    }
   ],
   "source": [
    "\n",
    "workflow01.add_node(\"agent\", run_agent)\n",
    "workflow01.add_node(\"Utility\", agent_tool)\n",
    "\n",
    "\n",
    "workflow01.set_entry_point(\"agent\")\n",
    "\n",
    "\n",
    "workflow01.add_conditional_edges(\n",
    "    \"agent\",\n",
    "    tools_condition ,\n",
    "    {\n",
    "        \"tools\": \"Utility\",\n",
    "        END: END,\n",
    "\n",
    "    },\n",
    ")\n",
    "\n",
    "workflow01.add_edge(\"Utility\", \"agent\") \n",
    "\n",
    "graph01 = workflow01.compile(checkpointer=memory) \n",
    "\n",
    "\n",
    "from IPython.display import Image, display\n",
    "try:\n",
    "    display(Image(graph01.get_graph().draw_mermaid_png()))\n",
    "except Exception:\n",
    "    pass"
   ]
  },
  {
   "cell_type": "code",
   "execution_count": 33,
   "id": "efc99502",
   "metadata": {},
   "outputs": [
    {
     "name": "stdout",
     "output_type": "stream",
     "text": [
      "================================\u001b[1m Human Message \u001b[0m=================================\n",
      "\n",
      "could you fetch all the canidates? \n",
      "==================================\u001b[1m Ai Message \u001b[0m==================================\n",
      "Tool Calls:\n",
      "  retrive_candidates (r84hYgXXu)\n",
      " Call ID: r84hYgXXu\n",
      "  Args:\n",
      "=================================\u001b[1m Tool Message \u001b[0m=================================\n",
      "Name: retrive_candidates\n",
      "\n",
      "Candidates retrieved: [(1067971339906383873, 'Prasad', datetime.datetime(2025, 4, 30, 5, 2, 37, 356656), 'a software engineer at meta', 'Manjesh'), (1067972559791915009, 'Smith', datetime.datetime(2025, 4, 30, 5, 9, 20, 238448), 'Kevin Smith, a software engineer at Meta', 'Kevin'), (1067972964441161729, 'prasad', datetime.datetime(2025, 4, 30, 5, 11, 1, 143297), 'a software engineer at meta', 'manjesh')]\n",
      "==================================\u001b[1m Ai Message \u001b[0m==================================\n",
      "\n",
      "Here are the candidates retrieved from the database:\n",
      "\n",
      "1. **Prasad Manjesh**\n",
      "   - **ID:** 1067971339906383873\n",
      "   - **Description:** A software engineer at Meta\n",
      "   - **Timestamp:** 2025-04-30 05:02:37.356656\n",
      "\n",
      "2. **Kevin Smith**\n",
      "   - **ID:** 1067972559791915009\n",
      "   - **Description:** Kevin Smith, a software engineer at Meta\n",
      "   - **Timestamp:** 2025-04-30 05:09:20.238448\n",
      "\n",
      "3. **Manjesh Prasad**\n",
      "   - **ID:** 1067972964441161729\n",
      "   - **Description:** A software engineer at Meta\n",
      "   - **Timestamp:** 2025-04-30 05:11:01.143297\n",
      "================================\u001b[1m Human Message \u001b[0m=================================\n",
      "\n",
      "fetch all the canidates? \n",
      "==================================\u001b[1m Ai Message \u001b[0m==================================\n",
      "\n",
      "Here are the candidates retrieved from the database:\n",
      "\n",
      "1. **Prasad Manjesh**\n",
      "   - **ID:** 1067971339906383873\n",
      "   - **Description:** A software engineer at Meta\n",
      "   - **Timestamp:** 2025-04-30 05:02:37.356656\n",
      "\n",
      "2. **Kevin Smith**\n",
      "   - **ID:** 1067972559791915009\n",
      "   - **Description:** Kevin Smith, a software engineer at Meta\n",
      "   - **Timestamp:** 2025-04-30 05:09:20.238448\n",
      "\n",
      "3. **Manjesh Prasad**\n",
      "   - **ID:** 1067972964441161729\n",
      "   - **Description:** A software engineer at Meta\n",
      "   - **Timestamp:** 2025-04-30 05:11:01.143297\n",
      "================================\u001b[1m Human Message \u001b[0m=================================\n",
      "\n",
      "delete canidate please \n",
      "==================================\u001b[1m Ai Message \u001b[0m==================================\n",
      "\n",
      "Please provide the candidate ID you want to delete.\n",
      "================================\u001b[1m Human Message \u001b[0m=================================\n",
      "\n",
      "1067972964441161729\n",
      "==================================\u001b[1m Ai Message \u001b[0m==================================\n",
      "Tool Calls:\n",
      "  delete_candidate (cURCYyJSM)\n",
      " Call ID: cURCYyJSM\n",
      "  Args:\n",
      "    candidate_id: 1067972964441161729\n",
      "Candidate with ID 1067972964441161729 deleted successfully!\n",
      "=================================\u001b[1m Tool Message \u001b[0m=================================\n",
      "Name: delete_candidate\n",
      "\n",
      "Candidate with ID 1067972964441161729 deleted successfully!\n",
      "==================================\u001b[1m Ai Message \u001b[0m==================================\n",
      "\n",
      "Here are the candidates retrieved from the database:\n",
      "\n",
      "1. **Prasad Manjesh**\n",
      "   - **ID:** 1067971339906383873\n",
      "   - **Description:** A software engineer at Meta\n",
      "   - **Timestamp:** 2025-04-30 05:02:37.356656\n",
      "\n",
      "2. **Kevin Smith**\n",
      "   - **ID:** 1067972559791915009\n",
      "   - **Description:** Kevin Smith, a software engineer at Meta\n",
      "   - **Timestamp:** 2025-04-30 05:09:20.238448\n",
      "================================\u001b[1m Human Message \u001b[0m=================================\n",
      "\n",
      "fetch all the canidates please \n",
      "==================================\u001b[1m Ai Message \u001b[0m==================================\n",
      "Tool Calls:\n",
      "  retrive_candidates (A5Na7VTyC)\n",
      " Call ID: A5Na7VTyC\n",
      "  Args:\n",
      "=================================\u001b[1m Tool Message \u001b[0m=================================\n",
      "Name: retrive_candidates\n",
      "\n",
      "Candidates retrieved: [(1067971339906383873, 'Prasad', datetime.datetime(2025, 4, 30, 5, 2, 37, 356656), 'a software engineer at meta', 'Manjesh'), (1067972559791915009, 'Smith', datetime.datetime(2025, 4, 30, 5, 9, 20, 238448), 'Kevin Smith, a software engineer at Meta', 'Kevin')]\n",
      "==================================\u001b[1m Ai Message \u001b[0m==================================\n",
      "\n",
      "Here are the candidates retrieved from the database:\n",
      "\n",
      "1. **Prasad Manjesh**\n",
      "   - **ID:** 1067971339906383873\n",
      "   - **Description:** A software engineer at Meta\n",
      "   - **Timestamp:** 2025-04-30 05:02:37.356656\n",
      "\n",
      "2. **Kevin Smith**\n",
      "   - **ID:** 1067972559791915009\n",
      "   - **Description:** Kevin Smith, a software engineer at Meta\n",
      "   - **Timestamp:** 2025-04-30 05:09:20.238448\n"
     ]
    }
   ],
   "source": [
    "from langchain_core.messages import HumanMessage\n",
    "\n",
    "while True:\n",
    "    user_input = input(\"Your question: \")\n",
    "    if user_input.lower() == \"exit\":\n",
    "        break\n",
    "\n",
    "    input_message = [HumanMessage(content=user_input)]\n",
    "    config = {\"configurable\": {\"session_id\": \"abc123\", \"thread_id\": \"abc123\"}}\n",
    "\n",
    "    for step in graph01.stream({\"messages\": input_message}, config=config, stream_mode=\"values\"):\n",
    "        if \"messages\" in step and step[\"messages\"]:\n",
    "            last_message = step[\"messages\"][-1]\n",
    "            if hasattr(last_message, \"pretty_print\"):\n",
    "                last_message.pretty_print()\n",
    "            else:\n",
    "                print(last_message)"
   ]
  },
  {
   "cell_type": "code",
   "execution_count": null,
   "id": "f470cf8c",
   "metadata": {},
   "outputs": [],
   "source": [
    "import os\n",
    "import psycopg2\n",
    "from dotenv import load_dotenv\n",
    "\n",
    "# Load environment variables from a .env file\n",
    "load_dotenv()\n",
    "\n",
    "# Connect to the database using the URL stored in the environment variable\n",
    "conn = psycopg2.connect(os.getenv(\"DATABASE_URL\"))\n",
    "cursor = conn.cursor()\n",
    "# Bellow is just a testing sequence\n",
    "# # Run the query and fetch results\n",
    "# with conn.cursor() as cur:\n",
    "#     cur.execute(\"SELECT now()\")\n",
    "#     res = cur.fetchall()  # Retrieve all results\n",
    "#     print(res)\n",
    "\n",
    "# # Close the connection\n",
    "# conn.close()\n"
   ]
  },
  {
   "cell_type": "code",
   "execution_count": null,
   "id": "d7dc492b",
   "metadata": {},
   "outputs": [
    {
     "name": "stdout",
     "output_type": "stream",
     "text": [
      "[(1067964395977768961, 'this is a test canidate', datetime.datetime(2025, 4, 30, 4, 27, 48, 887513), 'Manjesh', 'Prasad')]\n"
     ]
    }
   ],
   "source": [
    "import psycopg2\n",
    "import os \n",
    "import dotenv \n",
    "dotenv.load_dotenv()\n",
    "# Step 1: Connect to CockroachDB\n",
    "connection = psycopg2.connect(\n",
    "os.getenv(\"DATABASE_URL\"),\n",
    ")\n",
    "\n",
    "cursor = connection.cursor()\n",
    "\n",
    "# # Step 2: Create a new table\n",
    "# cursor.execute(\n",
    "#     \"\"\"\n",
    "#     DROP TABLE IF EXISTS candidates;\n",
    "#     CREATE TABLE IF NOT EXISTS candidates (\n",
    "#         candidate_id SERIAL PRIMARY KEY,\n",
    "#         long_description TEXT\n",
    "# );\n",
    "\n",
    "\n",
    "#     \"\"\"\n",
    "# )\n",
    "\n",
    "cursor.execute(\n",
    "    \"\"\"\n",
    "    DROP TABLE IF EXISTS HRCandidates;\n",
    "\n",
    "    CREATE TABLE IF NOT EXISTS HRCandidates (\n",
    "        id SERIAL PRIMARY KEY,\n",
    "        description TEXT NOT NULL, \n",
    "        timestamp TIMESTAMP DEFAULT CURRENT_TIMESTAMP,\n",
    "        first_name VARCHAR(50) NOT NULL,\n",
    "        last_name VARCHAR(50) NOT NULL\n",
    ");\n",
    "\n",
    "    \n",
    "\n",
    "    \"\"\"\n",
    ")\n",
    "\n",
    "# Step 3: Insert a new row\n",
    "cursor.execute(\n",
    "    \"\"\"\n",
    "    INSERT INTO HRCandidates (description, first_name, last_name)\n",
    "    VALUES (%s, %s, %s)\n",
    "    \"\"\",\n",
    "    ('this is a test canidate','Manjesh', 'Prasad')\n",
    ")\n",
    "\n",
    "# # Save (commit) changes\n",
    "connection.commit()\n",
    "\n",
    "# Step 4: Query the table to confirm\n",
    "cursor.execute(\"SELECT * FROM HRCandidates\")\n",
    "rows = cursor.fetchall()\n",
    "print(rows)\n",
    "\n",
    "# Step 5: Close connections\n",
    "cursor.close()\n",
    "connection.close()\n"
   ]
  },
  {
   "cell_type": "code",
   "execution_count": null,
   "id": "13cfe7ce",
   "metadata": {},
   "outputs": [],
   "source": []
  }
 ],
 "metadata": {
  "kernelspec": {
   "display_name": "physics-agent",
   "language": "python",
   "name": "python3"
  },
  "language_info": {
   "codemirror_mode": {
    "name": "ipython",
    "version": 3
   },
   "file_extension": ".py",
   "mimetype": "text/x-python",
   "name": "python",
   "nbconvert_exporter": "python",
   "pygments_lexer": "ipython3",
   "version": "3.10.16"
  }
 },
 "nbformat": 4,
 "nbformat_minor": 5
}
